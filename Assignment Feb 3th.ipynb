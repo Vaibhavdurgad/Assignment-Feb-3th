{
 "cells": [
  {
   "cell_type": "markdown",
   "id": "8b133506-6c67-43bc-aca0-6ee73bcb6dc9",
   "metadata": {},
   "source": [
    "Q1. Which keyword is used to create a function? Create a function to return a list of odd numbers in the\n",
    "range of 1 to 25."
   ]
  },
  {
   "cell_type": "markdown",
   "id": "330afce3-1fc7-4a74-8c1f-ced2dfd97d72",
   "metadata": {},
   "source": [
    "Ans: def Keyword. "
   ]
  },
  {
   "cell_type": "code",
   "execution_count": 2,
   "id": "bc5baf04-ae57-4d43-aa80-5c7b491e9dd9",
   "metadata": {},
   "outputs": [],
   "source": [
    "def odd():\n",
    "    l1=[]\n",
    "    for i in range(1,25):\n",
    "        if i%2!=0:\n",
    "            l1.append(i)\n",
    "    return l1"
   ]
  },
  {
   "cell_type": "code",
   "execution_count": 3,
   "id": "04c57b46-c99d-471a-b112-aff3b9b838e2",
   "metadata": {},
   "outputs": [
    {
     "data": {
      "text/plain": [
       "[1, 3, 5, 7, 9, 11, 13, 15, 17, 19, 21, 23]"
      ]
     },
     "execution_count": 3,
     "metadata": {},
     "output_type": "execute_result"
    }
   ],
   "source": [
    "odd()"
   ]
  },
  {
   "cell_type": "markdown",
   "id": "5f1d5250-c330-4b98-9cc1-15fa0c0051cb",
   "metadata": {},
   "source": [
    "Q2. Why *args and **kwargs is used in some functions? Create a function each for *args and **kwargs\n",
    "to demonstrate their use."
   ]
  },
  {
   "cell_type": "markdown",
   "id": "fa74350a-d240-4c5f-9b7d-d2e7edf1f86d",
   "metadata": {},
   "source": [
    "Ans : Python has *args which allow us to pass the variable number of non keyword arguments to function.\n",
    "      Python has **kwargs allows us to pass the variable length of keyword arguments to the function."
   ]
  },
  {
   "cell_type": "code",
   "execution_count": 4,
   "id": "b45e067d-4700-4488-a522-b5b4a075c10f",
   "metadata": {},
   "outputs": [],
   "source": [
    "def test(*args):\n",
    "    return args"
   ]
  },
  {
   "cell_type": "code",
   "execution_count": 5,
   "id": "7b80ed8d-0349-47d8-9d59-616ddf430bca",
   "metadata": {},
   "outputs": [
    {
     "data": {
      "text/plain": [
       "(1, 2, 3, 'Vaibhav', [1, 2, 3])"
      ]
     },
     "execution_count": 5,
     "metadata": {},
     "output_type": "execute_result"
    }
   ],
   "source": [
    "test(1,2,3,\"Vaibhav\",[1,2,3])"
   ]
  },
  {
   "cell_type": "code",
   "execution_count": 6,
   "id": "f3f915c1-ae8a-4d60-a69c-82e075253cc2",
   "metadata": {},
   "outputs": [],
   "source": [
    "def test1(**kwargs):\n",
    "    return kwargs"
   ]
  },
  {
   "cell_type": "code",
   "execution_count": 7,
   "id": "2ddceb73-cbc6-4e88-8003-7bc958101f4f",
   "metadata": {},
   "outputs": [
    {
     "data": {
      "text/plain": [
       "{'a': [1, 2, 3], 'b': 'sudh', 'c': 324.5}"
      ]
     },
     "execution_count": 7,
     "metadata": {},
     "output_type": "execute_result"
    }
   ],
   "source": [
    "test1(a=[1,2,3],b=\"sudh\",c=324.5)"
   ]
  },
  {
   "cell_type": "markdown",
   "id": "65d45687-c317-41fa-85b8-55cc1d7797ef",
   "metadata": {},
   "source": [
    "Q3. What is an iterator in python? Name the method used to initialise the iterator object and the method\n",
    "used for iteration. Use these methods to print the first five elements of the given list [2, 4, 6, 8, 10, 12, 14,\n",
    "16, 18, 20]."
   ]
  },
  {
   "cell_type": "markdown",
   "id": "ac1aca01-efb9-4696-bbe4-8c0158847dc7",
   "metadata": {},
   "source": [
    "Ans :An iterator is an object that contains a countable number of values."
   ]
  },
  {
   "cell_type": "code",
   "execution_count": null,
   "id": "66d0d2ae-c5fe-41e2-8c80-d4a81bbd7e60",
   "metadata": {},
   "outputs": [],
   "source": [
    "__next__()"
   ]
  },
  {
   "cell_type": "code",
   "execution_count": 8,
   "id": "75964594-73ef-4d6c-9149-81dbda05a059",
   "metadata": {},
   "outputs": [],
   "source": [
    "list=[2, 4, 6, 8, 10, 12, 14, 16, 18, 20]"
   ]
  },
  {
   "cell_type": "code",
   "execution_count": 9,
   "id": "a441c023-e3d2-44e6-82dd-db883c5128dd",
   "metadata": {},
   "outputs": [],
   "source": [
    "s1=iter(list)"
   ]
  },
  {
   "cell_type": "code",
   "execution_count": 10,
   "id": "f4bd70da-26b3-401b-a856-c47c2fe40050",
   "metadata": {},
   "outputs": [
    {
     "data": {
      "text/plain": [
       "2"
      ]
     },
     "execution_count": 10,
     "metadata": {},
     "output_type": "execute_result"
    }
   ],
   "source": [
    "next(s1)"
   ]
  },
  {
   "cell_type": "code",
   "execution_count": 11,
   "id": "d03cc2f4-f69d-4124-a425-cf4fabedb572",
   "metadata": {},
   "outputs": [
    {
     "data": {
      "text/plain": [
       "4"
      ]
     },
     "execution_count": 11,
     "metadata": {},
     "output_type": "execute_result"
    }
   ],
   "source": [
    "next(s1)"
   ]
  },
  {
   "cell_type": "code",
   "execution_count": 12,
   "id": "5331d378-27ae-4dc7-8173-dcb4c1b2a37a",
   "metadata": {},
   "outputs": [
    {
     "data": {
      "text/plain": [
       "6"
      ]
     },
     "execution_count": 12,
     "metadata": {},
     "output_type": "execute_result"
    }
   ],
   "source": [
    "next(s1)"
   ]
  },
  {
   "cell_type": "code",
   "execution_count": 13,
   "id": "1dd6ed1b-890c-4e87-aab8-2ca9167bba1b",
   "metadata": {},
   "outputs": [
    {
     "data": {
      "text/plain": [
       "8"
      ]
     },
     "execution_count": 13,
     "metadata": {},
     "output_type": "execute_result"
    }
   ],
   "source": [
    "next(s1)"
   ]
  },
  {
   "cell_type": "code",
   "execution_count": 14,
   "id": "8f709a7c-a594-49a6-b1af-9209b2d5b83c",
   "metadata": {},
   "outputs": [
    {
     "data": {
      "text/plain": [
       "10"
      ]
     },
     "execution_count": 14,
     "metadata": {},
     "output_type": "execute_result"
    }
   ],
   "source": [
    "next(s1)"
   ]
  },
  {
   "cell_type": "markdown",
   "id": "0d0bde51-d8c3-4470-bfdd-430cd10a8258",
   "metadata": {},
   "source": [
    "Q4. What is a generator function in python? Why yield keyword is used? Give an example of a generator\n",
    "function."
   ]
  },
  {
   "cell_type": "markdown",
   "id": "5f33fffa-9d97-407e-ad03-548d5ff515fa",
   "metadata": {},
   "source": [
    "Ans: Python Generator functions allow you to declare a function that behaves likes an iterator, allowing programmers to make an iterator in a fast, easy, and clean way.\n",
    "\n",
    "yield is used to iterate over a sequence, but don't want to store the entire sequence in memory."
   ]
  },
  {
   "cell_type": "code",
   "execution_count": 15,
   "id": "37b24f00-7ca9-4e54-84f4-a9d2b87a0aff",
   "metadata": {},
   "outputs": [],
   "source": [
    "def simple(): \n",
    "    for i in range(10):\n",
    "        if(i%2==0):  \n",
    "            yield i  "
   ]
  },
  {
   "cell_type": "code",
   "execution_count": 16,
   "id": "314b357b-5e2c-4f51-b879-2c55f19912e6",
   "metadata": {},
   "outputs": [
    {
     "name": "stdout",
     "output_type": "stream",
     "text": [
      "0\n",
      "2\n",
      "4\n",
      "6\n",
      "8\n"
     ]
    }
   ],
   "source": [
    "for i in simple():\n",
    "    print(i)"
   ]
  },
  {
   "cell_type": "markdown",
   "id": "527a3da2-0ac8-4749-88f5-0122321450f8",
   "metadata": {},
   "source": [
    "Q5. Create a generator function for prime numbers less than 1000. Use the next() method to print the\n",
    "first 20 prime numbers."
   ]
  },
  {
   "cell_type": "code",
   "execution_count": 12,
   "id": "266ec810-1d32-438c-8cf1-b09218267500",
   "metadata": {},
   "outputs": [],
   "source": [
    "def test(n):\n",
    "    for i in range(2, 1000):\n",
    "        if i%2!=0:\n",
    "            yield i"
   ]
  },
  {
   "cell_type": "code",
   "execution_count": 17,
   "id": "36def748-fa02-4034-a041-2ebbb1d978f0",
   "metadata": {},
   "outputs": [
    {
     "name": "stdout",
     "output_type": "stream",
     "text": [
      "3\n",
      "5\n",
      "7\n",
      "9\n",
      "11\n",
      "13\n",
      "15\n",
      "17\n",
      "19\n",
      "21\n",
      "23\n",
      "25\n",
      "27\n",
      "29\n",
      "31\n",
      "33\n",
      "35\n",
      "37\n",
      "39\n",
      "41\n",
      "43\n",
      "45\n",
      "47\n",
      "49\n",
      "51\n",
      "53\n",
      "55\n",
      "57\n",
      "59\n",
      "61\n",
      "63\n",
      "65\n",
      "67\n",
      "69\n",
      "71\n",
      "73\n",
      "75\n",
      "77\n",
      "79\n",
      "81\n",
      "83\n",
      "85\n",
      "87\n",
      "89\n",
      "91\n",
      "93\n",
      "95\n",
      "97\n",
      "99\n",
      "101\n",
      "103\n",
      "105\n",
      "107\n",
      "109\n",
      "111\n",
      "113\n",
      "115\n",
      "117\n",
      "119\n",
      "121\n",
      "123\n",
      "125\n",
      "127\n",
      "129\n",
      "131\n",
      "133\n",
      "135\n",
      "137\n",
      "139\n",
      "141\n",
      "143\n",
      "145\n",
      "147\n",
      "149\n",
      "151\n",
      "153\n",
      "155\n",
      "157\n",
      "159\n",
      "161\n",
      "163\n",
      "165\n",
      "167\n",
      "169\n",
      "171\n",
      "173\n",
      "175\n",
      "177\n",
      "179\n",
      "181\n",
      "183\n",
      "185\n",
      "187\n",
      "189\n",
      "191\n",
      "193\n",
      "195\n",
      "197\n",
      "199\n",
      "201\n",
      "203\n",
      "205\n",
      "207\n",
      "209\n",
      "211\n",
      "213\n",
      "215\n",
      "217\n",
      "219\n",
      "221\n",
      "223\n",
      "225\n",
      "227\n",
      "229\n",
      "231\n",
      "233\n",
      "235\n",
      "237\n",
      "239\n",
      "241\n",
      "243\n",
      "245\n",
      "247\n",
      "249\n",
      "251\n",
      "253\n",
      "255\n",
      "257\n",
      "259\n",
      "261\n",
      "263\n",
      "265\n",
      "267\n",
      "269\n",
      "271\n",
      "273\n",
      "275\n",
      "277\n",
      "279\n",
      "281\n",
      "283\n",
      "285\n",
      "287\n",
      "289\n",
      "291\n",
      "293\n",
      "295\n",
      "297\n",
      "299\n",
      "301\n",
      "303\n",
      "305\n",
      "307\n",
      "309\n",
      "311\n",
      "313\n",
      "315\n",
      "317\n",
      "319\n",
      "321\n",
      "323\n",
      "325\n",
      "327\n",
      "329\n",
      "331\n",
      "333\n",
      "335\n",
      "337\n",
      "339\n",
      "341\n",
      "343\n",
      "345\n",
      "347\n",
      "349\n",
      "351\n",
      "353\n",
      "355\n",
      "357\n",
      "359\n",
      "361\n",
      "363\n",
      "365\n",
      "367\n",
      "369\n",
      "371\n",
      "373\n",
      "375\n",
      "377\n",
      "379\n",
      "381\n",
      "383\n",
      "385\n",
      "387\n",
      "389\n",
      "391\n",
      "393\n",
      "395\n",
      "397\n",
      "399\n",
      "401\n",
      "403\n",
      "405\n",
      "407\n",
      "409\n",
      "411\n",
      "413\n",
      "415\n",
      "417\n",
      "419\n",
      "421\n",
      "423\n",
      "425\n",
      "427\n",
      "429\n",
      "431\n",
      "433\n",
      "435\n",
      "437\n",
      "439\n",
      "441\n",
      "443\n",
      "445\n",
      "447\n",
      "449\n",
      "451\n",
      "453\n",
      "455\n",
      "457\n",
      "459\n",
      "461\n",
      "463\n",
      "465\n",
      "467\n",
      "469\n",
      "471\n",
      "473\n",
      "475\n",
      "477\n",
      "479\n",
      "481\n",
      "483\n",
      "485\n",
      "487\n",
      "489\n",
      "491\n",
      "493\n",
      "495\n",
      "497\n",
      "499\n",
      "501\n",
      "503\n",
      "505\n",
      "507\n",
      "509\n",
      "511\n",
      "513\n",
      "515\n",
      "517\n",
      "519\n",
      "521\n",
      "523\n",
      "525\n",
      "527\n",
      "529\n",
      "531\n",
      "533\n",
      "535\n",
      "537\n",
      "539\n",
      "541\n",
      "543\n",
      "545\n",
      "547\n",
      "549\n",
      "551\n",
      "553\n",
      "555\n",
      "557\n",
      "559\n",
      "561\n",
      "563\n",
      "565\n",
      "567\n",
      "569\n",
      "571\n",
      "573\n",
      "575\n",
      "577\n",
      "579\n",
      "581\n",
      "583\n",
      "585\n",
      "587\n",
      "589\n",
      "591\n",
      "593\n",
      "595\n",
      "597\n",
      "599\n",
      "601\n",
      "603\n",
      "605\n",
      "607\n",
      "609\n",
      "611\n",
      "613\n",
      "615\n",
      "617\n",
      "619\n",
      "621\n",
      "623\n",
      "625\n",
      "627\n",
      "629\n",
      "631\n",
      "633\n",
      "635\n",
      "637\n",
      "639\n",
      "641\n",
      "643\n",
      "645\n",
      "647\n",
      "649\n",
      "651\n",
      "653\n",
      "655\n",
      "657\n",
      "659\n",
      "661\n",
      "663\n",
      "665\n",
      "667\n",
      "669\n",
      "671\n",
      "673\n",
      "675\n",
      "677\n",
      "679\n",
      "681\n",
      "683\n",
      "685\n",
      "687\n",
      "689\n",
      "691\n",
      "693\n",
      "695\n",
      "697\n",
      "699\n",
      "701\n",
      "703\n",
      "705\n",
      "707\n",
      "709\n",
      "711\n",
      "713\n",
      "715\n",
      "717\n",
      "719\n",
      "721\n",
      "723\n",
      "725\n",
      "727\n",
      "729\n",
      "731\n",
      "733\n",
      "735\n",
      "737\n",
      "739\n",
      "741\n",
      "743\n",
      "745\n",
      "747\n",
      "749\n",
      "751\n",
      "753\n",
      "755\n",
      "757\n",
      "759\n",
      "761\n",
      "763\n",
      "765\n",
      "767\n",
      "769\n",
      "771\n",
      "773\n",
      "775\n",
      "777\n",
      "779\n",
      "781\n",
      "783\n",
      "785\n",
      "787\n",
      "789\n",
      "791\n",
      "793\n",
      "795\n",
      "797\n",
      "799\n",
      "801\n",
      "803\n",
      "805\n",
      "807\n",
      "809\n",
      "811\n",
      "813\n",
      "815\n",
      "817\n",
      "819\n",
      "821\n",
      "823\n",
      "825\n",
      "827\n",
      "829\n",
      "831\n",
      "833\n",
      "835\n",
      "837\n",
      "839\n",
      "841\n",
      "843\n",
      "845\n",
      "847\n",
      "849\n",
      "851\n",
      "853\n",
      "855\n",
      "857\n",
      "859\n",
      "861\n",
      "863\n",
      "865\n",
      "867\n",
      "869\n",
      "871\n",
      "873\n",
      "875\n",
      "877\n",
      "879\n",
      "881\n",
      "883\n",
      "885\n",
      "887\n",
      "889\n",
      "891\n",
      "893\n",
      "895\n",
      "897\n",
      "899\n",
      "901\n",
      "903\n",
      "905\n",
      "907\n",
      "909\n",
      "911\n",
      "913\n",
      "915\n",
      "917\n",
      "919\n",
      "921\n",
      "923\n",
      "925\n",
      "927\n",
      "929\n",
      "931\n",
      "933\n",
      "935\n",
      "937\n",
      "939\n",
      "941\n",
      "943\n",
      "945\n",
      "947\n",
      "949\n",
      "951\n",
      "953\n",
      "955\n",
      "957\n",
      "959\n",
      "961\n",
      "963\n",
      "965\n",
      "967\n",
      "969\n",
      "971\n",
      "973\n",
      "975\n",
      "977\n",
      "979\n",
      "981\n",
      "983\n",
      "985\n",
      "987\n",
      "989\n",
      "991\n",
      "993\n",
      "995\n",
      "997\n",
      "999\n"
     ]
    }
   ],
   "source": [
    "for i in test(1000):\n",
    "    print(i)"
   ]
  },
  {
   "cell_type": "code",
   "execution_count": 15,
   "id": "3d2ff3b6-fce7-4755-8d99-44cdb150c3c4",
   "metadata": {},
   "outputs": [
    {
     "ename": "TypeError",
     "evalue": "'int' object is not iterable",
     "output_type": "error",
     "traceback": [
      "\u001b[0;31m---------------------------------------------------------------------------\u001b[0m",
      "\u001b[0;31mTypeError\u001b[0m                                 Traceback (most recent call last)",
      "Cell \u001b[0;32mIn[15], line 1\u001b[0m\n\u001b[0;32m----> 1\u001b[0m \u001b[38;5;28mnext\u001b[39m(\u001b[38;5;28;43miter\u001b[39;49m\u001b[43m(\u001b[49m\u001b[43mi\u001b[49m\u001b[43m)\u001b[49m)\n",
      "\u001b[0;31mTypeError\u001b[0m: 'int' object is not iterable"
     ]
    }
   ],
   "source": [
    "next(iter(i))"
   ]
  },
  {
   "cell_type": "markdown",
   "id": "9508d1fb-ae11-4f86-9b99-d06398e74658",
   "metadata": {},
   "source": [
    "Q6. Write a python program to print the first 10 Fibonacci numbers using a while loop."
   ]
  },
  {
   "cell_type": "code",
   "execution_count": 1,
   "id": "29c3a661-4dcb-41e8-91a6-52ab811258cf",
   "metadata": {},
   "outputs": [
    {
     "name": "stdin",
     "output_type": "stream",
     "text": [
      "Enter Your Number: 10\n"
     ]
    },
    {
     "name": "stdout",
     "output_type": "stream",
     "text": [
      "0\n",
      "1\n",
      "1\n",
      "2\n",
      "3\n",
      "5\n",
      "8\n",
      "13\n",
      "21\n",
      "34\n"
     ]
    }
   ],
   "source": [
    "Number=int(input(\"Enter Your Number:\"))\n",
    "a,b=0,1\n",
    "counter=0\n",
    "while counter<Number:\n",
    "    print(a)\n",
    "    c=a+b\n",
    "    a=b\n",
    "    b=c\n",
    "    counter=counter+1 "
   ]
  },
  {
   "cell_type": "markdown",
   "id": "4043987d-5366-4d05-bf5e-1ba763d977b1",
   "metadata": {},
   "source": [
    "Q7. Write a List Comprehension to iterate through the given string: ‘pwskills’.\n",
    "Expected output: ['p', 'w', 's', 'k', 'i', 'l', 'l', 's']"
   ]
  },
  {
   "cell_type": "code",
   "execution_count": 3,
   "id": "62e86551-d83e-419d-bde9-05a55e5468d6",
   "metadata": {},
   "outputs": [],
   "source": [
    "s=\"pwskills\""
   ]
  },
  {
   "cell_type": "code",
   "execution_count": 4,
   "id": "ecdb538f-76da-4499-827b-0f8f94a92144",
   "metadata": {},
   "outputs": [
    {
     "data": {
      "text/plain": [
       "['p', 'w', 's', 'k', 'i', 'l', 'l', 's']"
      ]
     },
     "execution_count": 4,
     "metadata": {},
     "output_type": "execute_result"
    }
   ],
   "source": [
    "[i for i in s]"
   ]
  },
  {
   "cell_type": "markdown",
   "id": "d2831f7b-b2cb-4a1a-bcb9-ad44a576d547",
   "metadata": {},
   "source": [
    "Q8. Write a python program to check whether a given number is Palindrome or not using a while loop."
   ]
  },
  {
   "cell_type": "code",
   "execution_count": 5,
   "id": "1287ad4a-4f5b-4619-beb6-5b79ba600809",
   "metadata": {},
   "outputs": [
    {
     "name": "stdin",
     "output_type": "stream",
     "text": [
      "Enter any number/word : MOM\n"
     ]
    },
    {
     "name": "stdout",
     "output_type": "stream",
     "text": [
      "It is a palindrome\n"
     ]
    }
   ],
   "source": [
    "str=input(\"Enter any number/word :\")\n",
    "i=0\n",
    "for i in range(len(str)):\n",
    "    if str[i]!=str[-1-i]:\n",
    "        print('It is not a palindrome')\n",
    "        break\n",
    "else:\n",
    "    print('It is a palindrome')"
   ]
  },
  {
   "cell_type": "markdown",
   "id": "36368bd7-417f-418f-b07e-8abc7636f6af",
   "metadata": {},
   "source": [
    "Q9. Write a code to print odd numbers from 1 to 100 using list comprehension.\n",
    "Note: Use a list comprehension to create a list from 1 to 100 and use another List comprehension to filter\n",
    "out odd numbers."
   ]
  },
  {
   "cell_type": "code",
   "execution_count": 5,
   "id": "6c50b74d-fd6e-46bc-b370-8eaee96afd83",
   "metadata": {},
   "outputs": [],
   "source": [
    "list=range(1,100)"
   ]
  },
  {
   "cell_type": "code",
   "execution_count": 6,
   "id": "435fa9df-fbcb-476c-8edb-302ace123509",
   "metadata": {},
   "outputs": [
    {
     "data": {
      "text/plain": [
       "[1,\n",
       " 3,\n",
       " 5,\n",
       " 7,\n",
       " 9,\n",
       " 11,\n",
       " 13,\n",
       " 15,\n",
       " 17,\n",
       " 19,\n",
       " 21,\n",
       " 23,\n",
       " 25,\n",
       " 27,\n",
       " 29,\n",
       " 31,\n",
       " 33,\n",
       " 35,\n",
       " 37,\n",
       " 39,\n",
       " 41,\n",
       " 43,\n",
       " 45,\n",
       " 47,\n",
       " 49,\n",
       " 51,\n",
       " 53,\n",
       " 55,\n",
       " 57,\n",
       " 59,\n",
       " 61,\n",
       " 63,\n",
       " 65,\n",
       " 67,\n",
       " 69,\n",
       " 71,\n",
       " 73,\n",
       " 75,\n",
       " 77,\n",
       " 79,\n",
       " 81,\n",
       " 83,\n",
       " 85,\n",
       " 87,\n",
       " 89,\n",
       " 91,\n",
       " 93,\n",
       " 95,\n",
       " 97,\n",
       " 99]"
      ]
     },
     "execution_count": 6,
     "metadata": {},
     "output_type": "execute_result"
    }
   ],
   "source": [
    "[i for i in list if i%2!=0]"
   ]
  }
 ],
 "metadata": {
  "kernelspec": {
   "display_name": "Python 3 (ipykernel)",
   "language": "python",
   "name": "python3"
  },
  "language_info": {
   "codemirror_mode": {
    "name": "ipython",
    "version": 3
   },
   "file_extension": ".py",
   "mimetype": "text/x-python",
   "name": "python",
   "nbconvert_exporter": "python",
   "pygments_lexer": "ipython3",
   "version": "3.10.8"
  }
 },
 "nbformat": 4,
 "nbformat_minor": 5
}
